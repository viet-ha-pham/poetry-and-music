{
 "cells": [
  {
   "cell_type": "markdown",
   "id": "f118d3eb",
   "metadata": {},
   "source": [
    "# Phân tích một âm tiết tiếng Việt (từ đơn) thành 3 thành phần: phụ âm đầu, vần và thanh điệu"
   ]
  },
  {
   "cell_type": "code",
   "execution_count": 1,
   "id": "ccb30d65",
   "metadata": {},
   "outputs": [],
   "source": [
    "vietnamese_vowel = [\n",
    "    \"a\",\"à\",\"á\",\"ả\",\"ã\",\"ạ\",\n",
    "    \"ă\",\"ằ\",\"ắ\",\"ẳ\",\"ẵ\",\"ặ\",\n",
    "    \"â\",\"ầ\",\"ấ\",\"ẩ\",\"ẫ\",\"ậ\",\n",
    "    \"e\",\"è\",\"é\",\"ẻ\",\"ẽ\",\"ẹ\",\n",
    "    \"ê\",\"ề\",\"ế\",\"ể\",\"ễ\",\"ệ\",\n",
    "    \"i\",\"ì\",\"í\",\"ỉ\",\"ĩ\",\"ị\",\n",
    "    \"o\",\"ò\",\"ó\",\"ỏ\",\"õ\",\"ọ\",\n",
    "    \"ô\",\"ồ\",\"ố\",\"ổ\",\"ỗ\",\"ộ\",\n",
    "    \"ơ\",\"ờ\",\"ớ\",\"ở\",\"ỡ\",\"ợ\",\n",
    "    \"u\",\"ù\",\"ú\",\"ủ\",\"ũ\",\"ụ\",\n",
    "    \"ư\",\"ừ\",\"ứ\",\"ử\",\"ữ\",\"ự\",\n",
    "    \"y\",\"ỳ\",\"ý\",\"ỷ\",\"ỹ\",\"ỵ\"\n",
    "]"
   ]
  },
  {
   "cell_type": "code",
   "execution_count": 2,
   "id": "0a1e73d3",
   "metadata": {},
   "outputs": [],
   "source": [
    "def first_vowel_idx(word):\n",
    "    for i,c in enumerate(word):\n",
    "        if c in vietnamese_vowel:\n",
    "            return i"
   ]
  },
  {
   "cell_type": "code",
   "execution_count": 3,
   "id": "7f446086",
   "metadata": {},
   "outputs": [
    {
     "data": {
      "text/plain": [
       "1"
      ]
     },
     "execution_count": 3,
     "metadata": {},
     "output_type": "execute_result"
    }
   ],
   "source": [
    "first_vowel_idx(\"con\")"
   ]
  },
  {
   "cell_type": "code",
   "execution_count": 4,
   "id": "9c78366f",
   "metadata": {},
   "outputs": [
    {
     "data": {
      "text/plain": [
       "0"
      ]
     },
     "execution_count": 4,
     "metadata": {},
     "output_type": "execute_result"
    }
   ],
   "source": [
    "first_vowel_idx(\"yêu\")"
   ]
  },
  {
   "cell_type": "code",
   "execution_count": 5,
   "id": "c6eacd96",
   "metadata": {},
   "outputs": [],
   "source": [
    "def get_initial_consonant_rhyme(word):\n",
    "    idx = first_vowel_idx(word)\n",
    "    if idx == 0:\n",
    "        return (\"\", word)\n",
    "    return word[:idx], word[idx:]"
   ]
  },
  {
   "cell_type": "code",
   "execution_count": 6,
   "id": "99e85d2d",
   "metadata": {},
   "outputs": [
    {
     "data": {
      "text/plain": [
       "('m', 'ưa')"
      ]
     },
     "execution_count": 6,
     "metadata": {},
     "output_type": "execute_result"
    }
   ],
   "source": [
    "get_initial_consonant_rhyme(\"mưa\")"
   ]
  },
  {
   "cell_type": "code",
   "execution_count": 7,
   "id": "9b611a36",
   "metadata": {},
   "outputs": [
    {
     "data": {
      "text/plain": [
       "('b', 'uồn')"
      ]
     },
     "execution_count": 7,
     "metadata": {},
     "output_type": "execute_result"
    }
   ],
   "source": [
    "get_initial_consonant_rhyme(\"buồn\")"
   ]
  },
  {
   "cell_type": "code",
   "execution_count": 8,
   "id": "562f3ec8",
   "metadata": {},
   "outputs": [],
   "source": [
    "import ctnx\n",
    "def perfect_rhyme(word1, word2):\n",
    "    return ctnx.remove_tones(get_initial_consonant_rhyme(word1)[1]) == ctnx.remove_tones(get_initial_consonant_rhyme(word2)[1])"
   ]
  },
  {
   "cell_type": "code",
   "execution_count": 9,
   "id": "69e55f90",
   "metadata": {},
   "outputs": [
    {
     "data": {
      "text/plain": [
       "True"
      ]
     },
     "execution_count": 9,
     "metadata": {},
     "output_type": "execute_result"
    }
   ],
   "source": [
    "perfect_rhyme(\"luôn\", \"buồn\")"
   ]
  },
  {
   "cell_type": "code",
   "execution_count": 10,
   "id": "82b8723b",
   "metadata": {},
   "outputs": [],
   "source": [
    "def first_vowel_tone_diacritics(word):\n",
    "    for c in word:\n",
    "        if c in vietnamese_vowel and c not in \"a ă â e ê o ô ơ u ư y\":\n",
    "            return c"
   ]
  },
  {
   "cell_type": "code",
   "execution_count": 11,
   "id": "5876c02d",
   "metadata": {},
   "outputs": [
    {
     "data": {
      "text/plain": [
       "'ồ'"
      ]
     },
     "execution_count": 11,
     "metadata": {},
     "output_type": "execute_result"
    }
   ],
   "source": [
    "first_vowel_tone_diacritics(\"buồn\")"
   ]
  },
  {
   "cell_type": "code",
   "execution_count": 12,
   "id": "d8fbe697",
   "metadata": {},
   "outputs": [],
   "source": [
    "def get_tone(word):\n",
    "    c = first_vowel_tone_diacritics(word)\n",
    "    if c == None:\n",
    "        return \"ngang\"\n",
    "    if c in \"à ằ ầ è ề ò ồ ờ ù ừ ỳ\":\n",
    "        return \"huyền\"\n",
    "    if c in \"á ắ ấ é ế ó ố ớ ú ứ ý\":\n",
    "        return \"sắc\"\n",
    "    if c in \"ả ẳ ẩ ẻ ể ỏ ổ ở ủ ử ỷ\":\n",
    "        return \"hỏi\"\n",
    "    if c in \"ã ẵ ẫ ẽ ễ õ ỗ ỡ ũ ữ ỹ\":\n",
    "        return \"ngã\"\n",
    "    if c in \"ạ ặ ậ ẹ ệ ọ ộ ợ ụ ự ỵ\":\n",
    "        return \"nặng\"\n",
    "    \n",
    "    return \"ngang\""
   ]
  },
  {
   "cell_type": "code",
   "execution_count": 13,
   "id": "43cb63d1",
   "metadata": {},
   "outputs": [
    {
     "data": {
      "text/plain": [
       "'huyền'"
      ]
     },
     "execution_count": 13,
     "metadata": {},
     "output_type": "execute_result"
    }
   ],
   "source": [
    "get_tone(\"buồn\")"
   ]
  },
  {
   "cell_type": "code",
   "execution_count": 14,
   "id": "250222ca",
   "metadata": {},
   "outputs": [
    {
     "data": {
      "text/plain": [
       "'hỏi'"
      ]
     },
     "execution_count": 14,
     "metadata": {},
     "output_type": "execute_result"
    }
   ],
   "source": [
    "get_tone(\"ngủ\")"
   ]
  },
  {
   "cell_type": "code",
   "execution_count": 15,
   "id": "f0408bbf",
   "metadata": {},
   "outputs": [
    {
     "data": {
      "text/plain": [
       "'nặng'"
      ]
     },
     "execution_count": 15,
     "metadata": {},
     "output_type": "execute_result"
    }
   ],
   "source": [
    "get_tone(\"mệt\")"
   ]
  },
  {
   "cell_type": "code",
   "execution_count": 16,
   "id": "c49924cf",
   "metadata": {},
   "outputs": [
    {
     "data": {
      "text/plain": [
       "'sắc'"
      ]
     },
     "execution_count": 16,
     "metadata": {},
     "output_type": "execute_result"
    }
   ],
   "source": [
    "get_tone(\"quá\")"
   ]
  },
  {
   "cell_type": "code",
   "execution_count": 17,
   "id": "8700e04e",
   "metadata": {},
   "outputs": [
    {
     "data": {
      "text/plain": [
       "'ngã'"
      ]
     },
     "execution_count": 17,
     "metadata": {},
     "output_type": "execute_result"
    }
   ],
   "source": [
    "get_tone(\"lãng\")"
   ]
  },
  {
   "cell_type": "code",
   "execution_count": 18,
   "id": "cc1d6f0a",
   "metadata": {},
   "outputs": [
    {
     "data": {
      "text/plain": [
       "'ngang'"
      ]
     },
     "execution_count": 18,
     "metadata": {},
     "output_type": "execute_result"
    }
   ],
   "source": [
    "get_tone(\"phí\")"
   ]
  },
  {
   "cell_type": "code",
   "execution_count": 73,
   "id": "2e21d2d3",
   "metadata": {},
   "outputs": [],
   "source": [
    "import random\n",
    "def word2note(word):\n",
    "    tone = get_tone(word)\n",
    "    if tone == \"ngang\":\n",
    "        return random.choice([\"c'\", \"e'\"])\n",
    "    if tone == \"huyền\":\n",
    "        return random.choice([\"g\", \"b\"])\n",
    "    if tone == \"sắc\":\n",
    "        return random.choice([\"e'\", \"g'\"])\n",
    "    if tone == \"hỏi\":\n",
    "        return random.choice([\"e\", \"g\"])\n",
    "    if tone == \"ngã\":\n",
    "        return random.choice([\"g'\", \"b'\"])\n",
    "    if tone == \"nặng\":\n",
    "        return random.choice([\"c\", \"e\"])"
   ]
  },
  {
   "cell_type": "code",
   "execution_count": 74,
   "id": "d3019712",
   "metadata": {},
   "outputs": [],
   "source": [
    "txt = \"\"\"trăm năm trong cõi người ta, \n",
    "chữ tài chữ mệnh khéo là ghét nhau.\n",
    "trải qua một cuộc bể dâu,\n",
    "những điều trông thấy mà đau đớn lòng.\n",
    "lạ gì bỉ sắc tư phong,\n",
    "trời xanh quen thói má hồng đánh ghen.\n",
    "cảo thơm lần giở trước đèn,\n",
    "phong tình cổ lục còn truyền sử xanh.\n",
    "\"\"\""
   ]
  },
  {
   "cell_type": "code",
   "execution_count": 75,
   "id": "5db48aec",
   "metadata": {},
   "outputs": [],
   "source": [
    "words = txt.split()"
   ]
  },
  {
   "cell_type": "code",
   "execution_count": 76,
   "id": "54b3b7b1",
   "metadata": {},
   "outputs": [
    {
     "data": {
      "text/plain": [
       "[\"e'\",\n",
       " \"c'\",\n",
       " \"e'\",\n",
       " \"b'\",\n",
       " 'g',\n",
       " \"c'\",\n",
       " \"b'\",\n",
       " 'b',\n",
       " \"g'\",\n",
       " 'e',\n",
       " \"e'\",\n",
       " 'b',\n",
       " \"g'\",\n",
       " \"c'\",\n",
       " 'e',\n",
       " \"e'\",\n",
       " 'c',\n",
       " 'e',\n",
       " 'e',\n",
       " \"e'\",\n",
       " \"g'\",\n",
       " \"e'\",\n",
       " \"e'\",\n",
       " \"g'\",\n",
       " 'b',\n",
       " \"e'\",\n",
       " \"g'\",\n",
       " 'b',\n",
       " 'e',\n",
       " \"c'\",\n",
       " \"e'\",\n",
       " \"e'\",\n",
       " \"c'\",\n",
       " \"c'\",\n",
       " 'g',\n",
       " \"c'\",\n",
       " \"e'\",\n",
       " \"g'\",\n",
       " \"e'\",\n",
       " 'b',\n",
       " \"g'\",\n",
       " \"e'\",\n",
       " 'g',\n",
       " \"c'\",\n",
       " 'b',\n",
       " \"e'\",\n",
       " \"g'\",\n",
       " 'g',\n",
       " \"c'\",\n",
       " \"e'\",\n",
       " 'g',\n",
       " 'e',\n",
       " 'b',\n",
       " 'b',\n",
       " 'g',\n",
       " \"e'\"]"
      ]
     },
     "execution_count": 76,
     "metadata": {},
     "output_type": "execute_result"
    }
   ],
   "source": [
    "pitches = [word2note(w) for w in words]\n",
    "pitches"
   ]
  },
  {
   "cell_type": "code",
   "execution_count": 77,
   "id": "ac2be8c3",
   "metadata": {},
   "outputs": [],
   "source": [
    "def flatten(listlist):\n",
    "    return [item for row in listlist for item in row]"
   ]
  },
  {
   "cell_type": "code",
   "execution_count": 78,
   "id": "3fe82823",
   "metadata": {},
   "outputs": [],
   "source": [
    "from underthesea import word_tokenize"
   ]
  },
  {
   "cell_type": "code",
   "execution_count": 79,
   "id": "22029563",
   "metadata": {},
   "outputs": [
    {
     "data": {
      "text/plain": [
       "[4,\n",
       " 4,\n",
       " 4,\n",
       " 4,\n",
       " 8,\n",
       " 8,\n",
       " 4,\n",
       " 4,\n",
       " 4,\n",
       " 4,\n",
       " 4,\n",
       " 4,\n",
       " 4,\n",
       " 4,\n",
       " 4,\n",
       " 4,\n",
       " 4,\n",
       " 4,\n",
       " 4,\n",
       " 4,\n",
       " 8,\n",
       " 8,\n",
       " 4,\n",
       " 4,\n",
       " 4,\n",
       " 4,\n",
       " 4,\n",
       " 4,\n",
       " 8,\n",
       " 8,\n",
       " 4,\n",
       " 4,\n",
       " 4,\n",
       " 4,\n",
       " 4,\n",
       " 4,\n",
       " 4,\n",
       " 4,\n",
       " 4,\n",
       " 4,\n",
       " 4,\n",
       " 8,\n",
       " 8,\n",
       " 8,\n",
       " 8,\n",
       " 8,\n",
       " 8,\n",
       " 4,\n",
       " 4,\n",
       " 4,\n",
       " 4,\n",
       " 4,\n",
       " 4,\n",
       " 4,\n",
       " 4,\n",
       " 8,\n",
       " 8,\n",
       " 8,\n",
       " 8,\n",
       " 4,\n",
       " 4,\n",
       " 8,\n",
       " 8,\n",
       " 4]"
      ]
     },
     "execution_count": 79,
     "metadata": {},
     "output_type": "execute_result"
    }
   ],
   "source": [
    "durations = flatten([ [ 4 * len(w.split())]* len(w.split()) for w in word_tokenize(txt)])\n",
    "durations"
   ]
  },
  {
   "cell_type": "code",
   "execution_count": 80,
   "id": "af4a94b7",
   "metadata": {},
   "outputs": [
    {
     "data": {
      "text/plain": [
       "[\"e'4_trăm\",\n",
       " \"c'4_năm\",\n",
       " \"e'4_trong\",\n",
       " \"b'4_cõi\",\n",
       " 'g8_người',\n",
       " \"c'8_ta,\",\n",
       " \"b'4_chữ\",\n",
       " 'b4_tài',\n",
       " \"g'4_chữ\",\n",
       " 'e4_mệnh',\n",
       " \"e'4_khéo\",\n",
       " 'b4_là',\n",
       " \"g'4_ghét\",\n",
       " \"c'4_nhau.\",\n",
       " 'e4_trải',\n",
       " \"e'4_qua\",\n",
       " 'c4_một',\n",
       " 'e4_cuộc',\n",
       " 'e4_bể',\n",
       " \"e'4_dâu,\",\n",
       " \"g'8_những\",\n",
       " \"e'8_điều\",\n",
       " \"e'4_trông\",\n",
       " \"g'4_thấy\",\n",
       " 'b4_mà',\n",
       " \"e'4_đau\",\n",
       " \"g'4_đớn\",\n",
       " 'b4_lòng.',\n",
       " 'e8_lạ',\n",
       " \"c'8_gì\",\n",
       " \"e'4_bỉ\",\n",
       " \"e'4_sắc\",\n",
       " \"c'4_tư\",\n",
       " \"c'4_phong,\",\n",
       " 'g4_trời',\n",
       " \"c'4_xanh\",\n",
       " \"e'4_quen\",\n",
       " \"g'4_thói\",\n",
       " \"e'4_má\",\n",
       " 'b4_hồng',\n",
       " \"g'4_đánh\",\n",
       " \"e'8_ghen.\",\n",
       " 'g8_cảo',\n",
       " \"c'8_thơm\",\n",
       " 'b8_lần',\n",
       " \"e'8_giở\",\n",
       " \"g'8_trước\",\n",
       " 'g4_đèn,',\n",
       " \"c'4_phong\",\n",
       " \"e'4_tình\",\n",
       " 'g4_cổ',\n",
       " 'e4_lục',\n",
       " 'b4_còn',\n",
       " 'b4_truyền',\n",
       " 'g4_sử',\n",
       " \"e'8_xanh.\"]"
      ]
     },
     "execution_count": 80,
     "metadata": {},
     "output_type": "execute_result"
    }
   ],
   "source": [
    "notes = []\n",
    "for i, p in enumerate(pitches):\n",
    "    d = durations[i]\n",
    "    w = words[i]\n",
    "    notes.append(f\"{p}{d}_{w}\")\n",
    "notes"
   ]
  },
  {
   "cell_type": "code",
   "execution_count": 81,
   "id": "5630976c",
   "metadata": {},
   "outputs": [],
   "source": [
    "melody = \" \".join(notes)"
   ]
  },
  {
   "cell_type": "code",
   "execution_count": 82,
   "id": "b92b351e",
   "metadata": {},
   "outputs": [],
   "source": [
    "from music21 import *"
   ]
  },
  {
   "cell_type": "code",
   "execution_count": 83,
   "id": "31ba64d9",
   "metadata": {},
   "outputs": [
    {
     "data": {
      "image/png": "[encoded data removed]",
      "text/plain": [
       "<IPython.core.display.Image object>"
      ]
     },
     "metadata": {
      "image/png": {
       "height": 1100,
       "width": 850
      }
     },
     "output_type": "display_data"
    }
   ],
   "source": [
    "littleMelody = converter.parse(f\"tinynotation: 2/4 {melody}\")\n",
    "littleMelody.show()"
   ]
  },
  {
   "cell_type": "code",
   "execution_count": 84,
   "id": "59d5f6be",
   "metadata": {},
   "outputs": [
    {
     "data": {
      "text/html": [
       "\n",
       "                <div id=\"midiPlayerDiv9288\"></div>\n",
       "                <link rel=\"stylesheet\" href=\"https://cuthbertLab.github.io/music21j/css/m21.css\">\n",
       "                \n",
       "                <script>\n",
       "                require.config({\n",
       "                    paths: {\n",
       "                        'music21': 'https://cuthbertLab.github.io/music21j/releases/music21.debug',\n",
       "                    }\n",
       "                });\n",
       "                require(['music21'], function(music21) {\n",
       "                    mp = new music21.miditools.MidiPlayer();\n",
       "                    mp.addPlayer(\"#midiPlayerDiv9288\");\n",
       "                    mp.base64Load(\"data:audio/midi;base64,TVRoZAAAAAYAAQACBABNVHJrAAAAFAD/UQMHoSAA/1gEAgIYCIgA/y8ATVRyawAAAgYA/wMAAOAAQIgAkExaiACATAAAkEhaiACASAAAkExaiACATAAAkFNaiACAUwAAkENahACAQwAAkEhahACASAAAkFNaiACAUwAAkEdaiACARwAAkE9aiACATwAAkEBaiACAQAAAkExaiACATAAAkEdaiACARwAAkE9aiACATwAAkEhaiACASAAAkEBaiACAQAAAkExaiACATAAAkDxaiACAPAAAkEBaiACAQAAAkEBaiACAQAAAkExaiACATAAAkE9ahACATwAAkExahACATAAAkExaiACATAAAkE9aiACATwAAkEdaiACARwAAkExaiACATAAAkE9aiACATwAAkEdaiACARwAAkEBahACAQAAAkEhahACASAAAkExaiACATAAAkExaiACATAAAkEhaiACASAAAkEhaiACASAAAkENaiACAQwAAkEhaiACASAAAkExaiACATAAAkE9aiACATwAAkExaiACATAAAkEdaiACARwAAkE9aiACATwAAkExahACATAAAkENahACAQwAAkEhahACASAAAkEdahACARwAAkExahACATAAAkE9ahACATwAAkENaiACAQwAAkEhaiACASAAAkExaiACATAAAkENaiACAQwAAkEBaiACAQAAAkEdaiACARwAAkEdaiACARwAAkENaiACAQwAAkExahACATACIAP8vAA==\");\n",
       "                });\n",
       "                </script>"
      ],
      "text/plain": [
       "<IPython.core.display.HTML object>"
      ]
     },
     "metadata": {},
     "output_type": "display_data"
    }
   ],
   "source": [
    "littleMelody.show('midi')"
   ]
  },
  {
   "cell_type": "code",
   "execution_count": null,
   "id": "25a0de4a",
   "metadata": {},
   "outputs": [],
   "source": []
  },
  {
   "cell_type": "code",
   "execution_count": null,
   "id": "b49329e6",
   "metadata": {},
   "outputs": [],
   "source": []
  },
  {
   "cell_type": "code",
   "execution_count": null,
   "id": "f4926384",
   "metadata": {},
   "outputs": [],
   "source": []
  },
  {
   "cell_type": "code",
   "execution_count": null,
   "id": "975f5d39",
   "metadata": {},
   "outputs": [],
   "source": []
  }
 ],
 "metadata": {
  "kernelspec": {
   "display_name": "Python 3 (ipykernel)",
   "language": "python",
   "name": "python3"
  },
  "language_info": {
   "codemirror_mode": {
    "name": "ipython",
    "version": 3
   },
   "file_extension": ".py",
   "mimetype": "text/x-python",
   "name": "python",
   "nbconvert_exporter": "python",
   "pygments_lexer": "ipython3",
   "version": "3.9.12"
  }
 },
 "nbformat": 4,
 "nbformat_minor": 5
}
